{
 "cells": [
  {
   "cell_type": "code",
   "execution_count": 2,
   "metadata": {},
   "outputs": [],
   "source": [
    "#bubble sort\n",
    "def bubbleSort(arr):\n",
    "    \n",
    "    for i in range(len(arr)):\n",
    "        flag = False\n",
    "        for j in range(i+1,len(arr)):\n",
    "            if arr[i] > arr[j]:\n",
    "                arr[i] , arr[j] = arr[j] , arr[i]\n",
    "                flag = True\n",
    "        if flag == False:\n",
    "            break\n",
    "    return arr "
   ]
  },
  {
   "cell_type": "code",
   "execution_count": 3,
   "metadata": {},
   "outputs": [
    {
     "name": "stdout",
     "output_type": "stream",
     "text": [
      "[2, 3, 77, 96, 404, 505, 6000]\n"
     ]
    }
   ],
   "source": [
    "array = [77,505,404,3,96,2,6000]\n",
    "print(bubbleSort(array))"
   ]
  },
  {
   "cell_type": "code",
   "execution_count": 4,
   "metadata": {},
   "outputs": [],
   "source": [
    "#selection sort\n",
    "def selectionSort(arr):\n",
    "    \n",
    "    for i in range(len(arr)):\n",
    "        min = i\n",
    "        for j in range(i+1,len(arr)):\n",
    "            if arr[j] < arr[min]:\n",
    "                min = j\n",
    "        arr[i] , arr[min] = arr[min] , arr[i]\n",
    "    return arr"
   ]
  },
  {
   "cell_type": "code",
   "execution_count": 5,
   "metadata": {},
   "outputs": [
    {
     "name": "stdout",
     "output_type": "stream",
     "text": [
      "[2, 3, 77, 96, 404, 505, 6000]\n"
     ]
    }
   ],
   "source": [
    "array = [77,505,404,3,96,2,6000]\n",
    "print(selectionSort(array))"
   ]
  },
  {
   "cell_type": "code",
   "execution_count": 6,
   "metadata": {},
   "outputs": [],
   "source": [
    "#insertion sort\n",
    "def insertionSort(arr):\n",
    "    for i in range(1, len(arr)):\n",
    "        for j in range(i, 0, -1):\n",
    "            if arr[j] < arr[j - 1]:\n",
    "                arr[j], arr[j - 1] = arr[j - 1], arr[j]\n",
    "            else:\n",
    "                break\n",
    "    return arr"
   ]
  },
  {
   "cell_type": "code",
   "execution_count": 7,
   "metadata": {},
   "outputs": [
    {
     "name": "stdout",
     "output_type": "stream",
     "text": [
      "[1, 2, 3, 96, 404, 505, 6000]\n",
      "[1, 2, 3, 4, 5]\n"
     ]
    }
   ],
   "source": [
    "array = [1,505,404,3,6000,96,2]\n",
    "new = [5,4,3,2,1]\n",
    "print(insertionSort(array))\n",
    "print(insertionSort(new))"
   ]
  },
  {
   "cell_type": "code",
   "execution_count": 8,
   "metadata": {},
   "outputs": [],
   "source": [
    "#merge sort\n",
    "def merge(lb,rb):\n",
    "    new=[0]*(len(lb)+len(rb))\n",
    "    i=j=k=0\n",
    "    while i<len(lb) and j<len(rb):\n",
    "        if lb[i]<rb[j]:\n",
    "            new[k]=lb[i]\n",
    "            k+=1\n",
    "            i+=1\n",
    "        elif lb[i]==rb[j]:\n",
    "            new[k]=lb[i]\n",
    "            k+=1\n",
    "            i+=1\n",
    "            new[k]=rb[j]\n",
    "            j+=1\n",
    "            k+=1\n",
    "        else:\n",
    "            new[k]=rb[j]\n",
    "            j+=1\n",
    "            k+=1\n",
    "    while i<len(lb):\n",
    "        new[k]=lb[i]\n",
    "        i+=1\n",
    "        k+=1\n",
    "    while j<len(rb):\n",
    "        new[k]=rb[j]\n",
    "        j+=1\n",
    "        k+=1\n",
    "\n",
    "    return new\n",
    "\n",
    "def mergeSort(arr):\n",
    "  if len(arr)<=1:\n",
    "    return arr\n",
    "  else:\n",
    "    mid = len(arr)//2\n",
    "    left = mergeSort(arr[:mid])\n",
    "    right = mergeSort(arr[mid:])\n",
    "    return merge(left,right)"
   ]
  },
  {
   "cell_type": "code",
   "execution_count": 9,
   "metadata": {},
   "outputs": [
    {
     "name": "stdout",
     "output_type": "stream",
     "text": [
      "[20, 69, 96, 333, 404, 505, 6000]\n"
     ]
    }
   ],
   "source": [
    "array = [69,505,404,333,6000,96,20]\n",
    "print(mergeSort(array))"
   ]
  },
  {
   "cell_type": "code",
   "execution_count": 10,
   "metadata": {},
   "outputs": [],
   "source": [
    "#quick sort\n",
    "#first index pivot\n",
    "def partition(arr,low,high):\n",
    "    \n",
    "    pivot = arr[low]\n",
    "    i = low\n",
    "    for j in range(i+1,len(arr)):\n",
    "        if arr[j] <= pivot:\n",
    "            i += 1\n",
    "            arr[i] , arr[j] = arr[j] , arr[i]\n",
    "    arr[i] , arr[low] = pivot , arr[i]\n",
    "    return i\n",
    "    \n",
    "def Quicksort(arr,low,high):\n",
    "    \n",
    "    if low < high:\n",
    "        part = partition(arr,low,high)\n",
    "        Quicksort(arr,low,part-1)\n",
    "        Quicksort(arr,part+1,high)\n",
    "    return arr"
   ]
  },
  {
   "cell_type": "code",
   "execution_count": 11,
   "metadata": {},
   "outputs": [
    {
     "name": "stdout",
     "output_type": "stream",
     "text": [
      "[20, 69, 96, 333, 404, 505, 6000]\n"
     ]
    }
   ],
   "source": [
    "array = [69,505,404,333,6000,96,20]\n",
    "print(Quicksort(array,0,len(array)))"
   ]
  },
  {
   "cell_type": "code",
   "execution_count": null,
   "metadata": {},
   "outputs": [],
   "source": [
    "#random pivot Quick sort"
   ]
  },
  {
   "cell_type": "code",
   "execution_count": null,
   "metadata": {},
   "outputs": [],
   "source": [
    "#heap sort"
   ]
  },
  {
   "cell_type": "code",
   "execution_count": 43,
   "metadata": {},
   "outputs": [
    {
     "name": "stdout",
     "output_type": "stream",
     "text": [
      "Sorted array: [1, 3, 4, 5, 6, 7, 12, 15]\n"
     ]
    }
   ],
   "source": [
    "def quick_sort(arr):\n",
    "    if len(arr) <= 1:\n",
    "        return arr\n",
    "    else:\n",
    "        pivot = arr[0]\n",
    "        less_than_pivot = [x for x in arr[1:] if x <= pivot]\n",
    "        greater_than_pivot = [x for x in arr[1:] if x > pivot]\n",
    "        return quick_sort(less_than_pivot) + [pivot] + quick_sort(greater_than_pivot)\n",
    "\n",
    "# Example usage: \n",
    "my_array = [12, 4, 5, 6, 7, 3, 1, 15]\n",
    "sorted_array = quick_sort(my_array)\n",
    "print(\"Sorted array:\", sorted_array)\n"
   ]
  },
  {
   "cell_type": "code",
   "execution_count": 74,
   "metadata": {},
   "outputs": [
    {
     "name": "stdout",
     "output_type": "stream",
     "text": [
      "Sorted array: [1, 3, 4, 5, 6, 7, 12, 15]\n"
     ]
    }
   ],
   "source": [
    "import random\n",
    "\n",
    "def quick_sort(arr):\n",
    "    if len(arr) <= 1:\n",
    "        return arr\n",
    "    else:\n",
    "        pivot_index = random.randint(0, len(arr) - 1)\n",
    "        pivot = arr[pivot_index]\n",
    "\n",
    "        # Partition the array into elements less than and greater than the pivot\n",
    "        less_than_pivot = [x for i, x in enumerate(arr) if x <= pivot and i != pivot_index]\n",
    "        greater_than_pivot = [x for i, x in enumerate(arr) if x > pivot and i != pivot_index]\n",
    "\n",
    "        # Recursively sort the sub-arrays\n",
    "        return quick_sort(less_than_pivot) + [pivot] + quick_sort(greater_than_pivot)\n",
    "\n",
    "# Example usage:\n",
    "my_array = [12, 4, 5, 6, 7, 3, 1, 15]\n",
    "sorted_array = quick_sort(my_array)\n",
    "print(\"Sorted array:\", sorted_array)\n"
   ]
  }
 ],
 "metadata": {
  "kernelspec": {
   "display_name": "Python 3",
   "language": "python",
   "name": "python3"
  },
  "language_info": {
   "codemirror_mode": {
    "name": "ipython",
    "version": 3
   },
   "file_extension": ".py",
   "mimetype": "text/x-python",
   "name": "python",
   "nbconvert_exporter": "python",
   "pygments_lexer": "ipython3",
   "version": "3.11.8"
  }
 },
 "nbformat": 4,
 "nbformat_minor": 2
}
